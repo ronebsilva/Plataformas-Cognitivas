{
  "nbformat": 4,
  "nbformat_minor": 0,
  "metadata": {
    "colab": {
      "name": "Concessão de Crédito com Machine Learning.ipynb",
      "provenance": [],
      "toc_visible": true
    },
    "kernelspec": {
      "name": "python3",
      "display_name": "Python 3"
    }
  },
  "cells": [
    {
      "cell_type": "markdown",
      "metadata": {
        "id": "pG-o99QvFlS4"
      },
      "source": [
        "# Configurações"
      ]
    },
    {
      "cell_type": "markdown",
      "metadata": {
        "id": "aiXgHWzaKgcO"
      },
      "source": [
        "![alt text](https://github.com/elthonf/plataformas-cognitivas-docker/blob/master/images/capa.png?raw=1)"
      ]
    },
    {
      "cell_type": "code",
      "metadata": {
        "id": "AII-AcywAFml",
        "cellView": "form"
      },
      "source": [
        "#@title Parâmetros da solução\n",
        "#@markdown Informe a quantidade de clientes que devem ser analisados.\n",
        "qtde_clientes = 4  #@param {type: \"slider\", min: 1, max: 10}\n",
        "\n",
        "#@markdown Informe o IP do servidor de predição da sua solução:\n",
        "my_server_ip = \"38.28.76.130\" #@param {type:\"string\"}\n",
        "\n",
        "#@markdown Informe a porta do servidor de predição da sua solução, se nada foi alterado, deve ser 443:\n",
        "my_server_port = \"443\" #@param {type:\"string\"}\n",
        "\n",
        "#@markdown Informe o seu nome:\n",
        "students_name = \"Elthon Manhas de Freitas\" #@param {type:\"string\"}\n",
        "\n",
        "#@markdown Ah, e não se esqueça de executar esta célula!\n"
      ],
      "execution_count": 4,
      "outputs": []
    },
    {
      "cell_type": "code",
      "metadata": {
        "id": "bL7_Uitf-_Uv"
      },
      "source": [
        "import requests\n",
        "import pandas as pd\n",
        "import json"
      ],
      "execution_count": 5,
      "outputs": []
    },
    {
      "cell_type": "markdown",
      "metadata": {
        "id": "EnnjKg0_-6Q4"
      },
      "source": [
        "# Obtenção dos empréstimos pendentes de análise\n",
        "\n",
        "Vamos agora obter os clientes que estã precisand de empréstimo e exibí-los na tela"
      ]
    },
    {
      "cell_type": "code",
      "metadata": {
        "id": "HO5QEWjz_eYk"
      },
      "source": [
        "url = \"https://us-central1-emf-teacher.cloudfunctions.net/function-aulas-getclient?qtde={0}\".format(qtde_clientes)\n",
        "headers = {'Content-Type': 'application/json'}\n",
        "response = requests.request(\"GET\", url, headers=headers)\n",
        "response_content = response.text.encode('utf8').decode()\n",
        "clientes = pd.read_json(response_content)"
      ],
      "execution_count": 6,
      "outputs": []
    },
    {
      "cell_type": "code",
      "metadata": {
        "id": "Yg6oYQyw_sXc",
        "outputId": "9c499e91-92ea-4d73-b6b6-52f21a5caa94",
        "colab": {
          "base_uri": "https://localhost:8080/",
          "height": 175
        }
      },
      "source": [
        "clientes"
      ],
      "execution_count": 7,
      "outputs": [
        {
          "output_type": "execute_result",
          "data": {
            "text/plain": [
              "                        nome        renda      idade  etnia  sexo  \\\n",
              "11530  Shafee'a, el-Ebrahimi  2993.095335  25.728829      0     1   \n",
              "30924      Juliette, Vasquez  3206.908198  32.260114      0     1   \n",
              "49445      Thaamir, el-Edris  4708.623196  54.360051      1     0   \n",
              "18746        Uriel, Martinez  4277.132457  45.965060      1     0   \n",
              "\n",
              "       casapropria  outrasrendas  estadocivil  escolaridade  \n",
              "11530            0             0            0             2  \n",
              "30924            0             0            1             2  \n",
              "49445            1             0            0             3  \n",
              "18746            0             1            0             3  "
            ],
            "text/html": [
              "\n",
              "  <div id=\"df-fe4c2eb0-cd67-492a-9e30-5368d06fb867\">\n",
              "    <div class=\"colab-df-container\">\n",
              "      <div>\n",
              "<style scoped>\n",
              "    .dataframe tbody tr th:only-of-type {\n",
              "        vertical-align: middle;\n",
              "    }\n",
              "\n",
              "    .dataframe tbody tr th {\n",
              "        vertical-align: top;\n",
              "    }\n",
              "\n",
              "    .dataframe thead th {\n",
              "        text-align: right;\n",
              "    }\n",
              "</style>\n",
              "<table border=\"1\" class=\"dataframe\">\n",
              "  <thead>\n",
              "    <tr style=\"text-align: right;\">\n",
              "      <th></th>\n",
              "      <th>nome</th>\n",
              "      <th>renda</th>\n",
              "      <th>idade</th>\n",
              "      <th>etnia</th>\n",
              "      <th>sexo</th>\n",
              "      <th>casapropria</th>\n",
              "      <th>outrasrendas</th>\n",
              "      <th>estadocivil</th>\n",
              "      <th>escolaridade</th>\n",
              "    </tr>\n",
              "  </thead>\n",
              "  <tbody>\n",
              "    <tr>\n",
              "      <th>11530</th>\n",
              "      <td>Shafee'a, el-Ebrahimi</td>\n",
              "      <td>2993.095335</td>\n",
              "      <td>25.728829</td>\n",
              "      <td>0</td>\n",
              "      <td>1</td>\n",
              "      <td>0</td>\n",
              "      <td>0</td>\n",
              "      <td>0</td>\n",
              "      <td>2</td>\n",
              "    </tr>\n",
              "    <tr>\n",
              "      <th>30924</th>\n",
              "      <td>Juliette, Vasquez</td>\n",
              "      <td>3206.908198</td>\n",
              "      <td>32.260114</td>\n",
              "      <td>0</td>\n",
              "      <td>1</td>\n",
              "      <td>0</td>\n",
              "      <td>0</td>\n",
              "      <td>1</td>\n",
              "      <td>2</td>\n",
              "    </tr>\n",
              "    <tr>\n",
              "      <th>49445</th>\n",
              "      <td>Thaamir, el-Edris</td>\n",
              "      <td>4708.623196</td>\n",
              "      <td>54.360051</td>\n",
              "      <td>1</td>\n",
              "      <td>0</td>\n",
              "      <td>1</td>\n",
              "      <td>0</td>\n",
              "      <td>0</td>\n",
              "      <td>3</td>\n",
              "    </tr>\n",
              "    <tr>\n",
              "      <th>18746</th>\n",
              "      <td>Uriel, Martinez</td>\n",
              "      <td>4277.132457</td>\n",
              "      <td>45.965060</td>\n",
              "      <td>1</td>\n",
              "      <td>0</td>\n",
              "      <td>0</td>\n",
              "      <td>1</td>\n",
              "      <td>0</td>\n",
              "      <td>3</td>\n",
              "    </tr>\n",
              "  </tbody>\n",
              "</table>\n",
              "</div>\n",
              "      <button class=\"colab-df-convert\" onclick=\"convertToInteractive('df-fe4c2eb0-cd67-492a-9e30-5368d06fb867')\"\n",
              "              title=\"Convert this dataframe to an interactive table.\"\n",
              "              style=\"display:none;\">\n",
              "        \n",
              "  <svg xmlns=\"http://www.w3.org/2000/svg\" height=\"24px\"viewBox=\"0 0 24 24\"\n",
              "       width=\"24px\">\n",
              "    <path d=\"M0 0h24v24H0V0z\" fill=\"none\"/>\n",
              "    <path d=\"M18.56 5.44l.94 2.06.94-2.06 2.06-.94-2.06-.94-.94-2.06-.94 2.06-2.06.94zm-11 1L8.5 8.5l.94-2.06 2.06-.94-2.06-.94L8.5 2.5l-.94 2.06-2.06.94zm10 10l.94 2.06.94-2.06 2.06-.94-2.06-.94-.94-2.06-.94 2.06-2.06.94z\"/><path d=\"M17.41 7.96l-1.37-1.37c-.4-.4-.92-.59-1.43-.59-.52 0-1.04.2-1.43.59L10.3 9.45l-7.72 7.72c-.78.78-.78 2.05 0 2.83L4 21.41c.39.39.9.59 1.41.59.51 0 1.02-.2 1.41-.59l7.78-7.78 2.81-2.81c.8-.78.8-2.07 0-2.86zM5.41 20L4 18.59l7.72-7.72 1.47 1.35L5.41 20z\"/>\n",
              "  </svg>\n",
              "      </button>\n",
              "      \n",
              "  <style>\n",
              "    .colab-df-container {\n",
              "      display:flex;\n",
              "      flex-wrap:wrap;\n",
              "      gap: 12px;\n",
              "    }\n",
              "\n",
              "    .colab-df-convert {\n",
              "      background-color: #E8F0FE;\n",
              "      border: none;\n",
              "      border-radius: 50%;\n",
              "      cursor: pointer;\n",
              "      display: none;\n",
              "      fill: #1967D2;\n",
              "      height: 32px;\n",
              "      padding: 0 0 0 0;\n",
              "      width: 32px;\n",
              "    }\n",
              "\n",
              "    .colab-df-convert:hover {\n",
              "      background-color: #E2EBFA;\n",
              "      box-shadow: 0px 1px 2px rgba(60, 64, 67, 0.3), 0px 1px 3px 1px rgba(60, 64, 67, 0.15);\n",
              "      fill: #174EA6;\n",
              "    }\n",
              "\n",
              "    [theme=dark] .colab-df-convert {\n",
              "      background-color: #3B4455;\n",
              "      fill: #D2E3FC;\n",
              "    }\n",
              "\n",
              "    [theme=dark] .colab-df-convert:hover {\n",
              "      background-color: #434B5C;\n",
              "      box-shadow: 0px 1px 3px 1px rgba(0, 0, 0, 0.15);\n",
              "      filter: drop-shadow(0px 1px 2px rgba(0, 0, 0, 0.3));\n",
              "      fill: #FFFFFF;\n",
              "    }\n",
              "  </style>\n",
              "\n",
              "      <script>\n",
              "        const buttonEl =\n",
              "          document.querySelector('#df-fe4c2eb0-cd67-492a-9e30-5368d06fb867 button.colab-df-convert');\n",
              "        buttonEl.style.display =\n",
              "          google.colab.kernel.accessAllowed ? 'block' : 'none';\n",
              "\n",
              "        async function convertToInteractive(key) {\n",
              "          const element = document.querySelector('#df-fe4c2eb0-cd67-492a-9e30-5368d06fb867');\n",
              "          const dataTable =\n",
              "            await google.colab.kernel.invokeFunction('convertToInteractive',\n",
              "                                                     [key], {});\n",
              "          if (!dataTable) return;\n",
              "\n",
              "          const docLinkHtml = 'Like what you see? Visit the ' +\n",
              "            '<a target=\"_blank\" href=https://colab.research.google.com/notebooks/data_table.ipynb>data table notebook</a>'\n",
              "            + ' to learn more about interactive tables.';\n",
              "          element.innerHTML = '';\n",
              "          dataTable['output_type'] = 'display_data';\n",
              "          await google.colab.output.renderOutput(dataTable, element);\n",
              "          const docLink = document.createElement('div');\n",
              "          docLink.innerHTML = docLinkHtml;\n",
              "          element.appendChild(docLink);\n",
              "        }\n",
              "      </script>\n",
              "    </div>\n",
              "  </div>\n",
              "  "
            ]
          },
          "metadata": {},
          "execution_count": 7
        }
      ]
    },
    {
      "cell_type": "markdown",
      "metadata": {
        "id": "I8VIiDB8GaLw"
      },
      "source": [
        "# Predição\n",
        "\n",
        "O cliente agora será submetido a dois modelos de Machine Learning preparados para a análise."
      ]
    },
    {
      "cell_type": "code",
      "metadata": {
        "id": "qE27sOO0GPFC"
      },
      "source": [
        "url = \"http://{}:{}/predict\".format(my_server_ip, my_server_port)\n",
        "headers = {'Content-Type': 'application/json'}\n",
        "conteudo = clientes.to_json()"
      ],
      "execution_count": 8,
      "outputs": []
    },
    {
      "cell_type": "code",
      "metadata": {
        "id": "ufspC1N0ExsM",
        "outputId": "5c566b4a-bcd5-4cb6-f65a-eb9f7a29cbdc",
        "colab": {
          "base_uri": "https://localhost:8080/"
        }
      },
      "source": [
        "response01 = requests.request(\"POST\", url + f\"?model=modelo01&aluno=a\", headers=headers, data=conteudo)\n",
        "respostas01 = json.loads(response01.text.encode('utf8').decode())\n",
        "respostas01"
      ],
      "execution_count": 12,
      "outputs": [
        {
          "output_type": "execute_result",
          "data": {
            "text/plain": [
              "{'prediction': [1, 1, 0, 0],\n",
              " 'proba': [[0.07350118258752814, 0.9264988174124719],\n",
              "  [0.193987802140286, 0.806012197859714],\n",
              "  [0.9990246582909653, 0.0009753417090346871],\n",
              "  [0.9640461266005345, 0.035953873399465555]]}"
            ]
          },
          "metadata": {},
          "execution_count": 12
        }
      ]
    },
    {
      "cell_type": "code",
      "metadata": {
        "id": "S_O_UBleE05F"
      },
      "source": [
        "df_01 = pd.Series(respostas01['prediction'], index = clientes.index, name=\"PredicaoML01\")\n",
        "df_01B = pd.Series(respostas01['proba'], index = clientes.index, name=\"PredicaoML01B\")"
      ],
      "execution_count": null,
      "outputs": []
    },
    {
      "cell_type": "code",
      "metadata": {
        "id": "3X_p_bAPFXhr",
        "outputId": "209879fc-d4b3-41a0-f610-d0862038a978",
        "colab": {
          "base_uri": "https://localhost:8080/",
          "height": 85
        }
      },
      "source": [
        "response02 = requests.request(\"POST\", url + \"?model=modelo02\", headers=headers, data=conteudo)\n",
        "respostas02 = json.loads(response02.text.encode('utf8').decode())\n",
        "respostas02"
      ],
      "execution_count": null,
      "outputs": [
        {
          "output_type": "execute_result",
          "data": {
            "text/plain": [
              "{'prediction': [-0.010159329576254223,\n",
              "  0.5917030901875656,\n",
              "  0.6236547836165044,\n",
              "  1.0260868020451164]}"
            ]
          },
          "metadata": {
            "tags": []
          },
          "execution_count": 67
        }
      ]
    },
    {
      "cell_type": "code",
      "metadata": {
        "id": "A10MTY8tG_8d"
      },
      "source": [
        "df_02 = pd.Series(respostas02['prediction'], index = clientes.index, name=\"PredicaoML02\")"
      ],
      "execution_count": null,
      "outputs": []
    },
    {
      "cell_type": "code",
      "metadata": {
        "id": "KrVb0COfE2p6",
        "outputId": "b89db516-54f8-43f5-9a7d-2d6899971e91",
        "colab": {
          "base_uri": "https://localhost:8080/",
          "height": 173
        }
      },
      "source": [
        "pd.DataFrame(clientes.loc[:,\"nome\"])\\\n",
        "    .merge(right= df_01, left_index=True, right_index=True)\\\n",
        "    .merge(df_01B, left_index=True, right_index=True)\\\n",
        "    .merge(df_02, left_index=True, right_index=True)"
      ],
      "execution_count": null,
      "outputs": [
        {
          "output_type": "execute_result",
          "data": {
            "text/html": [
              "<div>\n",
              "<style scoped>\n",
              "    .dataframe tbody tr th:only-of-type {\n",
              "        vertical-align: middle;\n",
              "    }\n",
              "\n",
              "    .dataframe tbody tr th {\n",
              "        vertical-align: top;\n",
              "    }\n",
              "\n",
              "    .dataframe thead th {\n",
              "        text-align: right;\n",
              "    }\n",
              "</style>\n",
              "<table border=\"1\" class=\"dataframe\">\n",
              "  <thead>\n",
              "    <tr style=\"text-align: right;\">\n",
              "      <th></th>\n",
              "      <th>nome</th>\n",
              "      <th>PredicaoML01</th>\n",
              "      <th>PredicaoML01B</th>\n",
              "      <th>PredicaoML02</th>\n",
              "    </tr>\n",
              "  </thead>\n",
              "  <tbody>\n",
              "    <tr>\n",
              "      <th>22672</th>\n",
              "      <td>Daniel, Wu</td>\n",
              "      <td>0</td>\n",
              "      <td>[0.9712613311116339, 0.02873866888836604]</td>\n",
              "      <td>-0.010159</td>\n",
              "    </tr>\n",
              "    <tr>\n",
              "      <th>3029</th>\n",
              "      <td>Brian, Wright</td>\n",
              "      <td>1</td>\n",
              "      <td>[0.10609475169972526, 0.8939052483002747]</td>\n",
              "      <td>0.591703</td>\n",
              "    </tr>\n",
              "    <tr>\n",
              "      <th>19240</th>\n",
              "      <td>Andre, Dave</td>\n",
              "      <td>1</td>\n",
              "      <td>[0.16488817236745124, 0.8351118276325488]</td>\n",
              "      <td>0.623655</td>\n",
              "    </tr>\n",
              "    <tr>\n",
              "      <th>44198</th>\n",
              "      <td>Alma Ruby, Cordova</td>\n",
              "      <td>1</td>\n",
              "      <td>[0.006931977891545316, 0.9930680221084547]</td>\n",
              "      <td>1.026087</td>\n",
              "    </tr>\n",
              "  </tbody>\n",
              "</table>\n",
              "</div>"
            ],
            "text/plain": [
              "                     nome  ...  PredicaoML02\n",
              "22672          Daniel, Wu  ...     -0.010159\n",
              "3029        Brian, Wright  ...      0.591703\n",
              "19240         Andre, Dave  ...      0.623655\n",
              "44198  Alma Ruby, Cordova  ...      1.026087\n",
              "\n",
              "[4 rows x 4 columns]"
            ]
          },
          "metadata": {
            "tags": []
          },
          "execution_count": 69
        }
      ]
    },
    {
      "cell_type": "code",
      "metadata": {
        "id": "xoppo_YQE-mt"
      },
      "source": [],
      "execution_count": null,
      "outputs": []
    }
  ]
}
